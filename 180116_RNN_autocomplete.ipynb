{
 "cells": [
  {
   "cell_type": "markdown",
   "metadata": {},
   "source": [
    "# RNN Autocomplete"
   ]
  },
  {
   "cell_type": "code",
   "execution_count": 1,
   "metadata": {},
   "outputs": [
    {
     "name": "stderr",
     "output_type": "stream",
     "text": [
      "/Users/hyunwoogu/anaconda3/lib/python3.6/importlib/_bootstrap.py:219: RuntimeWarning: compiletime version 3.5 of module 'tensorflow.python.framework.fast_tensor_util' does not match runtime version 3.6\n",
      "  return f(*args, **kwds)\n"
     ]
    }
   ],
   "source": [
    "import tensorflow as tf\n",
    "import numpy as np"
   ]
  },
  {
   "cell_type": "markdown",
   "metadata": {},
   "source": [
    "### Define a dictionary"
   ]
  },
  {
   "cell_type": "code",
   "execution_count": 2,
   "metadata": {},
   "outputs": [],
   "source": [
    "char_arr = ['A', 'B', 'C', 'D', 'E', 'F', 'G',\n",
    "            'H', 'I', 'J', 'K', 'L', 'M', 'N',\n",
    "            'O', 'P', 'Q', 'R', 'S', 'T', 'U',\n",
    "            'V', 'W', 'X', 'Y', 'Z']\n",
    "\n",
    "num_dic  = {n: i for i, n in enumerate(char_arr)}\n",
    "dic_len  = len(num_dic)"
   ]
  },
  {
   "cell_type": "markdown",
   "metadata": {},
   "source": [
    "### Data"
   ]
  },
  {
   "cell_type": "code",
   "execution_count": 3,
   "metadata": {},
   "outputs": [],
   "source": [
    "seq_data = ['MOYG', 'MEWG', 'MDVG', 'MQTG', 'XAEH', 'FHRJ', 'LORT', 'LQPW', 'KSVB', 'KJYW']"
   ]
  },
  {
   "cell_type": "code",
   "execution_count": 4,
   "metadata": {},
   "outputs": [],
   "source": [
    "def make_batch(seq_data):\n",
    "    input_batch  = []\n",
    "    target_batch = []\n",
    "\n",
    "    for seq in seq_data:\n",
    "        input  = [num_dic[n] for n in seq[:-1]]\n",
    "        target = num_dic[seq[-1]]\n",
    "        input_batch.append(np.eye(dic_len)[input])\n",
    "        target_batch.append(target)\n",
    "\n",
    "    return input_batch, target_batch"
   ]
  },
  {
   "cell_type": "markdown",
   "metadata": {},
   "source": [
    "### Options"
   ]
  },
  {
   "cell_type": "code",
   "execution_count": 5,
   "metadata": {},
   "outputs": [],
   "source": [
    "learning_rate = 0.01\n",
    "n_hidden      = 128\n",
    "total_epoch   = 100\n",
    "n_step        = 3\n",
    "n_input       = n_class = dic_len"
   ]
  },
  {
   "cell_type": "markdown",
   "metadata": {},
   "source": [
    "### Variables"
   ]
  },
  {
   "cell_type": "code",
   "execution_count": 6,
   "metadata": {},
   "outputs": [],
   "source": [
    "X = tf.placeholder(tf.float32, [None, n_step, n_input])\n",
    "Y = tf.placeholder(tf.int32, [None])\n",
    "\n",
    "W = tf.Variable(tf.random_normal([n_hidden, n_class]))\n",
    "b = tf.Variable(tf.random_normal([n_class]))"
   ]
  },
  {
   "cell_type": "markdown",
   "metadata": {},
   "source": [
    "### RNN cells"
   ]
  },
  {
   "cell_type": "code",
   "execution_count": 7,
   "metadata": {},
   "outputs": [],
   "source": [
    "cell1  = tf.nn.rnn_cell.BasicLSTMCell(n_hidden)\n",
    "cell1  = tf.nn.rnn_cell.DropoutWrapper(cell1, output_keep_prob=0.5)\n",
    "\n",
    "cell2  = tf.nn.rnn_cell.BasicLSTMCell(n_hidden)\n",
    "multi_cell = tf.nn.rnn_cell.MultiRNNCell([cell1, cell2])"
   ]
  },
  {
   "cell_type": "markdown",
   "metadata": {},
   "source": [
    "### Model"
   ]
  },
  {
   "cell_type": "code",
   "execution_count": 8,
   "metadata": {},
   "outputs": [],
   "source": [
    "outputs, states = tf.nn.dynamic_rnn(multi_cell, X, dtype=tf.float32)\n",
    "\n",
    "outputs   = tf.transpose(outputs, [1, 0, 2])\n",
    "outputs   = outputs[-1]\n",
    "model     = tf.matmul(outputs, W) + b\n",
    "\n",
    "cost      = tf.reduce_mean(\n",
    "            tf.nn.sparse_softmax_cross_entropy_with_logits(\n",
    "                logits=model, labels=Y))\n",
    "\n",
    "optimizer = tf.train.AdamOptimizer(learning_rate).minimize(cost)"
   ]
  },
  {
   "cell_type": "markdown",
   "metadata": {},
   "source": [
    "### Learning"
   ]
  },
  {
   "cell_type": "code",
   "execution_count": 9,
   "metadata": {},
   "outputs": [
    {
     "name": "stdout",
     "output_type": "stream",
     "text": [
      "Epoch: 0001 cost = 3.253695\n",
      "Epoch: 0002 cost = 2.384698\n",
      "Epoch: 0003 cost = 1.473730\n",
      "Epoch: 0004 cost = 0.782269\n",
      "Epoch: 0005 cost = 0.329979\n",
      "Epoch: 0006 cost = 0.151258\n",
      "Epoch: 0007 cost = 0.041260\n",
      "Epoch: 0008 cost = 0.013305\n",
      "Epoch: 0009 cost = 0.003534\n",
      "Epoch: 0010 cost = 0.021713\n",
      "Epoch: 0011 cost = 0.009701\n",
      "Epoch: 0012 cost = 0.000494\n",
      "Epoch: 0013 cost = 0.000049\n",
      "Epoch: 0014 cost = 0.002108\n",
      "Epoch: 0015 cost = 0.000053\n",
      "Epoch: 0016 cost = 0.002401\n",
      "Epoch: 0017 cost = 0.000005\n",
      "Epoch: 0018 cost = 0.878396\n",
      "Epoch: 0019 cost = 0.000000\n",
      "Epoch: 0020 cost = 0.000000\n",
      "Epoch: 0021 cost = 0.063923\n",
      "Epoch: 0022 cost = 0.131284\n",
      "Epoch: 0023 cost = 0.002179\n",
      "Epoch: 0024 cost = 0.148553\n",
      "Epoch: 0025 cost = 0.000031\n",
      "Epoch: 0026 cost = 0.000002\n",
      "Epoch: 0027 cost = 0.000000\n",
      "Epoch: 0028 cost = 0.000000\n",
      "Epoch: 0029 cost = 0.000017\n",
      "Epoch: 0030 cost = 0.000000\n",
      "Epoch: 0031 cost = 0.000000\n",
      "Epoch: 0032 cost = 0.000007\n",
      "Epoch: 0033 cost = 0.000000\n",
      "Epoch: 0034 cost = 0.000330\n",
      "Epoch: 0035 cost = 0.000000\n",
      "Epoch: 0036 cost = 0.001918\n",
      "Epoch: 0037 cost = 0.004495\n",
      "Epoch: 0038 cost = 0.000004\n",
      "Epoch: 0039 cost = 0.000019\n",
      "Epoch: 0040 cost = 0.000025\n",
      "Epoch: 0041 cost = 0.019560\n",
      "Epoch: 0042 cost = 0.000000\n",
      "Epoch: 0043 cost = 0.000000\n",
      "Epoch: 0044 cost = 0.000000\n",
      "Epoch: 0045 cost = 0.000000\n",
      "Epoch: 0046 cost = 0.000000\n",
      "Epoch: 0047 cost = 0.000000\n",
      "Epoch: 0048 cost = 0.000000\n",
      "Epoch: 0049 cost = 0.000000\n",
      "Epoch: 0050 cost = 0.000001\n",
      "Epoch: 0051 cost = 0.000000\n",
      "Epoch: 0052 cost = 0.000000\n",
      "Epoch: 0053 cost = 0.000003\n",
      "Epoch: 0054 cost = 0.000000\n",
      "Epoch: 0055 cost = 0.000000\n",
      "Epoch: 0056 cost = 0.000000\n",
      "Epoch: 0057 cost = 0.000000\n",
      "Epoch: 0058 cost = 0.000000\n",
      "Epoch: 0059 cost = 0.000000\n",
      "Epoch: 0060 cost = 0.000000\n",
      "Epoch: 0061 cost = 0.000000\n",
      "Epoch: 0062 cost = 0.000000\n",
      "Epoch: 0063 cost = 0.000000\n",
      "Epoch: 0064 cost = 0.000000\n",
      "Epoch: 0065 cost = 0.000000\n",
      "Epoch: 0066 cost = 0.000000\n",
      "Epoch: 0067 cost = 0.000000\n",
      "Epoch: 0068 cost = 0.000005\n",
      "Epoch: 0069 cost = 0.000000\n",
      "Epoch: 0070 cost = 0.000000\n",
      "Epoch: 0071 cost = 0.000000\n",
      "Epoch: 0072 cost = 0.000000\n",
      "Epoch: 0073 cost = 0.000000\n",
      "Epoch: 0074 cost = 0.000000\n",
      "Epoch: 0075 cost = 0.000000\n",
      "Epoch: 0076 cost = 0.000000\n",
      "Epoch: 0077 cost = 0.000000\n",
      "Epoch: 0078 cost = 0.000000\n",
      "Epoch: 0079 cost = 0.000000\n",
      "Epoch: 0080 cost = 0.000003\n",
      "Epoch: 0081 cost = 0.000000\n",
      "Epoch: 0082 cost = 0.000000\n",
      "Epoch: 0083 cost = 0.000000\n",
      "Epoch: 0084 cost = 0.000003\n",
      "Epoch: 0085 cost = 0.000000\n",
      "Epoch: 0086 cost = 0.000000\n",
      "Epoch: 0087 cost = 0.000000\n",
      "Epoch: 0088 cost = 0.000000\n",
      "Epoch: 0089 cost = 0.000000\n",
      "Epoch: 0090 cost = 0.000000\n",
      "Epoch: 0091 cost = 0.000000\n",
      "Epoch: 0092 cost = 0.000000\n",
      "Epoch: 0093 cost = 0.000006\n",
      "Epoch: 0094 cost = 0.000000\n",
      "Epoch: 0095 cost = 0.000000\n",
      "Epoch: 0096 cost = 0.000000\n",
      "Epoch: 0097 cost = 0.000000\n",
      "Epoch: 0098 cost = 0.000000\n",
      "Epoch: 0099 cost = 0.000000\n",
      "Epoch: 0100 cost = 0.000001\n",
      "Optimization completed!\n"
     ]
    }
   ],
   "source": [
    "sess = tf.Session()\n",
    "sess.run(tf.global_variables_initializer())\n",
    "\n",
    "input_batch, target_batch = make_batch(seq_data)\n",
    "\n",
    "for epoch in range(total_epoch):\n",
    "    _, loss = sess.run([optimizer, cost],\n",
    "                       feed_dict={X: input_batch, Y: target_batch})\n",
    "\n",
    "    print('Epoch:', '%04d' % (epoch + 1),\n",
    "          'cost =', '{:.6f}'.format(loss))\n",
    "\n",
    "print('Optimization completed!')"
   ]
  },
  {
   "cell_type": "markdown",
   "metadata": {},
   "source": [
    "### Result"
   ]
  },
  {
   "cell_type": "code",
   "execution_count": 10,
   "metadata": {},
   "outputs": [],
   "source": [
    "prediction = tf.cast(tf.argmax(model, 1), tf.int32)\n",
    "prediction_check = tf.equal(prediction, Y)\n",
    "accuracy = tf.reduce_mean(tf.cast(prediction_check, tf.float32))\n",
    "\n",
    "input_batch, target_batch = make_batch(seq_data)\n",
    "\n",
    "predict, accuracy_val     = sess.run([prediction, accuracy],\n",
    "                                 feed_dict={X: input_batch, Y: target_batch})"
   ]
  },
  {
   "cell_type": "code",
   "execution_count": 11,
   "metadata": {},
   "outputs": [
    {
     "name": "stdout",
     "output_type": "stream",
     "text": [
      "\n",
      "=== 예측 결과 ===\n",
      "입력값: ['MAR ']\n",
      "예측값: ['MARG']\n",
      "정확도: 1.0\n"
     ]
    }
   ],
   "source": [
    "predict_words = []\n",
    "for idx, val in enumerate(['MAR']):\n",
    "    last_char = char_arr[predict[idx]]\n",
    "    predict_words.append(val[:3] + last_char)\n",
    "\n",
    "print('\\n=== 예측 결과 ===')\n",
    "print('입력값:', [w[:3] + ' ' for w in ['MAR']])\n",
    "print('예측값:', predict_words)\n",
    "print('정확도:', accuracy_val)"
   ]
  }
 ],
 "metadata": {
  "kernelspec": {
   "display_name": "Python [conda root]",
   "language": "python",
   "name": "conda-root-py"
  },
  "language_info": {
   "codemirror_mode": {
    "name": "ipython",
    "version": 3
   },
   "file_extension": ".py",
   "mimetype": "text/x-python",
   "name": "python",
   "nbconvert_exporter": "python",
   "pygments_lexer": "ipython3",
   "version": "3.6.3"
  }
 },
 "nbformat": 4,
 "nbformat_minor": 2
}
